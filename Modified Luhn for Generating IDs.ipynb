{
 "cells": [
  {
   "cell_type": "markdown",
   "metadata": {},
   "source": [
    "# CheckSum for nHealth"
   ]
  },
  {
   "cell_type": "code",
   "execution_count": 23,
   "metadata": {},
   "outputs": [],
   "source": [
    "import random\n",
    "import csv"
   ]
  },
  {
   "cell_type": "code",
   "execution_count": 24,
   "metadata": {},
   "outputs": [],
   "source": [
    "def generateIDs(prefix, site_prefix, upper_limit, repeats):\n",
    "    i = 0\n",
    "    pid = \"\"\n",
    "    ids = []\n",
    "    for i in range (1, upper_limit):\n",
    "        if int(i) < 10:\n",
    "            i = '000'+str(i)\n",
    "        elif int(i) < 100:\n",
    "            i = '00'+str(i)\n",
    "        elif int(i) < 1000:\n",
    "            i = '0'+str(i)\n",
    "        pid = str(prefix + site_prefix + '-' + str(i))\n",
    "        for r in range(0, repeats):\n",
    "            ids.append(pid)\n",
    "    return (ids)"
   ]
  },
  {
   "cell_type": "code",
   "execution_count": 25,
   "metadata": {},
   "outputs": [],
   "source": [
    "input_ids = generateIDs('P', 'K', 100, 5)"
   ]
  },
  {
   "cell_type": "code",
   "execution_count": 26,
   "metadata": {},
   "outputs": [
    {
     "name": "stdout",
     "output_type": "stream",
     "text": [
      "PK-0001\n"
     ]
    }
   ],
   "source": [
    "print(input_ids[0])"
   ]
  },
  {
   "cell_type": "code",
   "execution_count": 27,
   "metadata": {},
   "outputs": [],
   "source": [
    "### Takes in the ID with characters\n",
    "# Converts the characters to ASCII int\n",
    "# Returns the digits which are then used to generate the checksum via Luhn algorithm\n",
    "# we use the UPPERCASE ascii as it is always 2 digits\n",
    "def convertIDToDigits(string):\n",
    "    # strip off the first three characters and convert them to ascii \n",
    "    # append the numbers to the remaining digits\n",
    "    # strip out any spaces or dashes\n",
    "    #print(string)\n",
    "    s = string.replace('-', '')\n",
    "    digits = s[2:]\n",
    "    #print(digits)\n",
    "    chars = s[:2]\n",
    "    #print(chars)\n",
    "    # reverse the list so when we append the numbers we preserve the order\n",
    "    chars = list(reversed(chars))\n",
    "    for c in chars:\n",
    "        num = ord(c.upper())\n",
    "        digits = str(num) + digits\n",
    "        #print(digits)\n",
    "    return(digits)"
   ]
  },
  {
   "cell_type": "code",
   "execution_count": 28,
   "metadata": {},
   "outputs": [],
   "source": [
    "def convertIDToVarChar(string):\n",
    "    # re-assemble the ID back to the original format\n",
    "    # take the first six digits\n",
    "    digits = string[4:]\n",
    "    d1 = digits[:4]\n",
    "    d2 = digits[4:]\n",
    "    chars = string[:4]\n",
    "    c1 = chr(int(chars[:2]))\n",
    "    c2 = chr(int(chars[2:4]))\n",
    "    #c3 = chr(int(chars[4:6]))\n",
    "    return c1 + c2 + '-' + d1 + '-' + d2"
   ]
  },
  {
   "cell_type": "code",
   "execution_count": 29,
   "metadata": {},
   "outputs": [],
   "source": [
    "# from https://github.com/mmcloughlin/luhn/blob/master/luhn.py\n",
    "\n",
    "def checksum(string):\n",
    "    \"\"\"\n",
    "    Compute the Luhn checksum for the provided string of digits. Note this\n",
    "    assumes the check digit is in place.\n",
    "    \"\"\"\n",
    "    digits = list(map(int, string))\n",
    "    odd_sum = sum(digits[-1::-2])\n",
    "    even_sum = sum([sum(divmod(2 * d, 10)) for d in digits[-2::-2]])\n",
    "    \n",
    "    l_sum = (odd_sum + even_sum) * 9\n",
    "    return (odd_sum + even_sum) % 10\n",
    "\n",
    "def verify(string):\n",
    "    \"\"\"\n",
    "    Check if the provided string of digits satisfies the Luhn checksum.\n",
    "    >>> verify('356938035643809')\n",
    "    True\n",
    "    >>> verify('534618613411236')\n",
    "    False\n",
    "    \"\"\"\n",
    "    # if it contains only digits\n",
    "    if not string.isdigit():\n",
    "        string = convertIDToDigits(string)\n",
    "    \n",
    "    return (checksum(string) == 0)\n",
    "\n",
    "def generate(string):\n",
    "    \"\"\"\n",
    "    Generate the Luhn check digit to append to the provided string.\n",
    "    >>> generate('35693803564380')\n",
    "    9\n",
    "    >>> generate('53461861341123')\n",
    "    4\n",
    "    \"\"\"\n",
    "    cksum = checksum(string + '0')\n",
    "    return (10 - cksum) % 10\n",
    "\n",
    "def append(string):\n",
    "    \"\"\"\n",
    "    Append Luhn check digit to the end of the provided string.\n",
    "    >>> append('53461861341123')\n",
    "    '534618613411234'\n",
    "    \"\"\"\n",
    "    return string + str(generate(string))"
   ]
  },
  {
   "cell_type": "code",
   "execution_count": 30,
   "metadata": {},
   "outputs": [],
   "source": [
    "computed_ids = []\n",
    "participant_ids = []"
   ]
  },
  {
   "cell_type": "code",
   "execution_count": 31,
   "metadata": {},
   "outputs": [],
   "source": [
    "for i in input_ids:\n",
    "    i = convertIDToDigits(i)\n",
    "    new_id = convertIDToVarChar(append(i))\n",
    "    computed_ids.append(new_id)"
   ]
  },
  {
   "cell_type": "code",
   "execution_count": 32,
   "metadata": {},
   "outputs": [],
   "source": [
    "#print(computed_ids)"
   ]
  },
  {
   "cell_type": "code",
   "execution_count": 33,
   "metadata": {},
   "outputs": [
    {
     "ename": "ValueError",
     "evalue": "invalid literal for int() with base 10: 'PK'",
     "output_type": "error",
     "traceback": [
      "\u001b[0;31m---------------------------------------------------------------------------\u001b[0m",
      "\u001b[0;31mValueError\u001b[0m                                Traceback (most recent call last)",
      "\u001b[0;32m<ipython-input-33-adb3b04f2b25>\u001b[0m in \u001b[0;36m<module>\u001b[0;34m()\u001b[0m\n\u001b[1;32m      1\u001b[0m \u001b[0;31m### convert these basck to the required format\u001b[0m\u001b[0;34m\u001b[0m\u001b[0;34m\u001b[0m\u001b[0m\n\u001b[1;32m      2\u001b[0m \u001b[0;32mfor\u001b[0m \u001b[0mi\u001b[0m \u001b[0;32min\u001b[0m \u001b[0mcomputed_ids\u001b[0m\u001b[0;34m:\u001b[0m\u001b[0;34m\u001b[0m\u001b[0m\n\u001b[0;32m----> 3\u001b[0;31m     \u001b[0mp_id\u001b[0m \u001b[0;34m=\u001b[0m \u001b[0mconvertIDToVarChar\u001b[0m\u001b[0;34m(\u001b[0m\u001b[0mi\u001b[0m\u001b[0;34m)\u001b[0m\u001b[0;34m\u001b[0m\u001b[0m\n\u001b[0m\u001b[1;32m      4\u001b[0m     \u001b[0mparticipant_ids\u001b[0m\u001b[0;34m.\u001b[0m\u001b[0mappend\u001b[0m\u001b[0;34m(\u001b[0m\u001b[0mp_id\u001b[0m\u001b[0;34m)\u001b[0m\u001b[0;34m\u001b[0m\u001b[0m\n\u001b[1;32m      5\u001b[0m \u001b[0mprint\u001b[0m\u001b[0;34m(\u001b[0m\u001b[0mparticipant_ids\u001b[0m\u001b[0;34m)\u001b[0m\u001b[0;34m\u001b[0m\u001b[0m\n",
      "\u001b[0;32m<ipython-input-28-1aa0cdeaa165>\u001b[0m in \u001b[0;36mconvertIDToVarChar\u001b[0;34m(string)\u001b[0m\n\u001b[1;32m      6\u001b[0m     \u001b[0md2\u001b[0m \u001b[0;34m=\u001b[0m \u001b[0mdigits\u001b[0m\u001b[0;34m[\u001b[0m\u001b[0;36m4\u001b[0m\u001b[0;34m:\u001b[0m\u001b[0;34m]\u001b[0m\u001b[0;34m\u001b[0m\u001b[0m\n\u001b[1;32m      7\u001b[0m     \u001b[0mchars\u001b[0m \u001b[0;34m=\u001b[0m \u001b[0mstring\u001b[0m\u001b[0;34m[\u001b[0m\u001b[0;34m:\u001b[0m\u001b[0;36m4\u001b[0m\u001b[0;34m]\u001b[0m\u001b[0;34m\u001b[0m\u001b[0m\n\u001b[0;32m----> 8\u001b[0;31m     \u001b[0mc1\u001b[0m \u001b[0;34m=\u001b[0m \u001b[0mchr\u001b[0m\u001b[0;34m(\u001b[0m\u001b[0mint\u001b[0m\u001b[0;34m(\u001b[0m\u001b[0mchars\u001b[0m\u001b[0;34m[\u001b[0m\u001b[0;34m:\u001b[0m\u001b[0;36m2\u001b[0m\u001b[0;34m]\u001b[0m\u001b[0;34m)\u001b[0m\u001b[0;34m)\u001b[0m\u001b[0;34m\u001b[0m\u001b[0m\n\u001b[0m\u001b[1;32m      9\u001b[0m     \u001b[0mc2\u001b[0m \u001b[0;34m=\u001b[0m \u001b[0mchr\u001b[0m\u001b[0;34m(\u001b[0m\u001b[0mint\u001b[0m\u001b[0;34m(\u001b[0m\u001b[0mchars\u001b[0m\u001b[0;34m[\u001b[0m\u001b[0;36m2\u001b[0m\u001b[0;34m:\u001b[0m\u001b[0;36m4\u001b[0m\u001b[0;34m]\u001b[0m\u001b[0;34m)\u001b[0m\u001b[0;34m)\u001b[0m\u001b[0;34m\u001b[0m\u001b[0m\n\u001b[1;32m     10\u001b[0m     \u001b[0;31m#c3 = chr(int(chars[4:6]))\u001b[0m\u001b[0;34m\u001b[0m\u001b[0;34m\u001b[0m\u001b[0m\n",
      "\u001b[0;31mValueError\u001b[0m: invalid literal for int() with base 10: 'PK'"
     ]
    }
   ],
   "source": [
    "### convert these basck to the required format\n",
    "for i in computed_ids:\n",
    "    p_id = convertIDToVarChar(i)\n",
    "    participant_ids.append(p_id)\n",
    "print(participant_ids)"
   ]
  },
  {
   "cell_type": "code",
   "execution_count": 34,
   "metadata": {},
   "outputs": [],
   "source": [
    "# check LUHN\n",
    "#for id in computed_ids:\n",
    "#    print(\"id:\", id, verify(id))"
   ]
  },
  {
   "cell_type": "code",
   "execution_count": 17,
   "metadata": {},
   "outputs": [],
   "source": [
    "#for id in computed_ids:\n",
    "#    print(\"id:\", id, verify(id))"
   ]
  },
  {
   "cell_type": "code",
   "execution_count": 15,
   "metadata": {},
   "outputs": [],
   "source": [
    "# print out the final participant_id generated\n",
    "#print(\"From the raw input\\n\")\n",
    "#print(raw_ids)\n",
    "#print(\"\\nWe generate these Ids with check-sums. Hyphens optional \\n\")\n",
    "#print(computed_ids)\n",
    "\n",
    "output = []\n",
    "\n",
    "for x in range(len(input_ids)):\n",
    "    raw = input_ids[x]\n",
    "    computed = computed_ids[x]\n",
    "    verified = verify(computed)\n",
    "    output.append((raw, computed, verified))\n",
    "\n",
    "#print(output)"
   ]
  },
  {
   "cell_type": "code",
   "execution_count": 16,
   "metadata": {},
   "outputs": [
    {
     "name": "stdout",
     "output_type": "stream",
     "text": [
      "['PK-0001-2', 'PK-0001-2', 'PK-0001-2', 'PK-0001-2', 'PK-0001-2', 'PK-0002-0', 'PK-0002-0', 'PK-0002-0', 'PK-0002-0', 'PK-0002-0', 'PK-0003-8', 'PK-0003-8', 'PK-0003-8', 'PK-0003-8', 'PK-0003-8', 'PK-0004-6', 'PK-0004-6', 'PK-0004-6', 'PK-0004-6', 'PK-0004-6', 'PK-0005-3', 'PK-0005-3', 'PK-0005-3', 'PK-0005-3', 'PK-0005-3', 'PK-0006-1', 'PK-0006-1', 'PK-0006-1', 'PK-0006-1', 'PK-0006-1', 'PK-0007-9', 'PK-0007-9', 'PK-0007-9', 'PK-0007-9', 'PK-0007-9', 'PK-0008-7', 'PK-0008-7', 'PK-0008-7', 'PK-0008-7', 'PK-0008-7', 'PK-0009-5', 'PK-0009-5', 'PK-0009-5', 'PK-0009-5', 'PK-0009-5', 'PK-0010-3', 'PK-0010-3', 'PK-0010-3', 'PK-0010-3', 'PK-0010-3', 'PK-0011-1', 'PK-0011-1', 'PK-0011-1', 'PK-0011-1', 'PK-0011-1', 'PK-0012-9', 'PK-0012-9', 'PK-0012-9', 'PK-0012-9', 'PK-0012-9', 'PK-0013-7', 'PK-0013-7', 'PK-0013-7', 'PK-0013-7', 'PK-0013-7', 'PK-0014-5', 'PK-0014-5', 'PK-0014-5', 'PK-0014-5', 'PK-0014-5', 'PK-0015-2', 'PK-0015-2', 'PK-0015-2', 'PK-0015-2', 'PK-0015-2', 'PK-0016-0', 'PK-0016-0', 'PK-0016-0', 'PK-0016-0', 'PK-0016-0', 'PK-0017-8', 'PK-0017-8', 'PK-0017-8', 'PK-0017-8', 'PK-0017-8', 'PK-0018-6', 'PK-0018-6', 'PK-0018-6', 'PK-0018-6', 'PK-0018-6', 'PK-0019-4', 'PK-0019-4', 'PK-0019-4', 'PK-0019-4', 'PK-0019-4', 'PK-0020-2', 'PK-0020-2', 'PK-0020-2', 'PK-0020-2', 'PK-0020-2', 'PK-0021-0', 'PK-0021-0', 'PK-0021-0', 'PK-0021-0', 'PK-0021-0', 'PK-0022-8', 'PK-0022-8', 'PK-0022-8', 'PK-0022-8', 'PK-0022-8', 'PK-0023-6', 'PK-0023-6', 'PK-0023-6', 'PK-0023-6', 'PK-0023-6', 'PK-0024-4', 'PK-0024-4', 'PK-0024-4', 'PK-0024-4', 'PK-0024-4', 'PK-0025-1', 'PK-0025-1', 'PK-0025-1', 'PK-0025-1', 'PK-0025-1', 'PK-0026-9', 'PK-0026-9', 'PK-0026-9', 'PK-0026-9', 'PK-0026-9', 'PK-0027-7', 'PK-0027-7', 'PK-0027-7', 'PK-0027-7', 'PK-0027-7', 'PK-0028-5', 'PK-0028-5', 'PK-0028-5', 'PK-0028-5', 'PK-0028-5', 'PK-0029-3', 'PK-0029-3', 'PK-0029-3', 'PK-0029-3', 'PK-0029-3', 'PK-0030-1', 'PK-0030-1', 'PK-0030-1', 'PK-0030-1', 'PK-0030-1', 'PK-0031-9', 'PK-0031-9', 'PK-0031-9', 'PK-0031-9', 'PK-0031-9', 'PK-0032-7', 'PK-0032-7', 'PK-0032-7', 'PK-0032-7', 'PK-0032-7', 'PK-0033-5', 'PK-0033-5', 'PK-0033-5', 'PK-0033-5', 'PK-0033-5', 'PK-0034-3', 'PK-0034-3', 'PK-0034-3', 'PK-0034-3', 'PK-0034-3', 'PK-0035-0', 'PK-0035-0', 'PK-0035-0', 'PK-0035-0', 'PK-0035-0', 'PK-0036-8', 'PK-0036-8', 'PK-0036-8', 'PK-0036-8', 'PK-0036-8', 'PK-0037-6', 'PK-0037-6', 'PK-0037-6', 'PK-0037-6', 'PK-0037-6', 'PK-0038-4', 'PK-0038-4', 'PK-0038-4', 'PK-0038-4', 'PK-0038-4', 'PK-0039-2', 'PK-0039-2', 'PK-0039-2', 'PK-0039-2', 'PK-0039-2', 'PK-0040-0', 'PK-0040-0', 'PK-0040-0', 'PK-0040-0', 'PK-0040-0', 'PK-0041-8', 'PK-0041-8', 'PK-0041-8', 'PK-0041-8', 'PK-0041-8', 'PK-0042-6', 'PK-0042-6', 'PK-0042-6', 'PK-0042-6', 'PK-0042-6', 'PK-0043-4', 'PK-0043-4', 'PK-0043-4', 'PK-0043-4', 'PK-0043-4', 'PK-0044-2', 'PK-0044-2', 'PK-0044-2', 'PK-0044-2', 'PK-0044-2', 'PK-0045-9', 'PK-0045-9', 'PK-0045-9', 'PK-0045-9', 'PK-0045-9', 'PK-0046-7', 'PK-0046-7', 'PK-0046-7', 'PK-0046-7', 'PK-0046-7', 'PK-0047-5', 'PK-0047-5', 'PK-0047-5', 'PK-0047-5', 'PK-0047-5', 'PK-0048-3', 'PK-0048-3', 'PK-0048-3', 'PK-0048-3', 'PK-0048-3', 'PK-0049-1', 'PK-0049-1', 'PK-0049-1', 'PK-0049-1', 'PK-0049-1', 'PK-0050-9', 'PK-0050-9', 'PK-0050-9', 'PK-0050-9', 'PK-0050-9', 'PK-0051-7', 'PK-0051-7', 'PK-0051-7', 'PK-0051-7', 'PK-0051-7', 'PK-0052-5', 'PK-0052-5', 'PK-0052-5', 'PK-0052-5', 'PK-0052-5', 'PK-0053-3', 'PK-0053-3', 'PK-0053-3', 'PK-0053-3', 'PK-0053-3', 'PK-0054-1', 'PK-0054-1', 'PK-0054-1', 'PK-0054-1', 'PK-0054-1', 'PK-0055-8', 'PK-0055-8', 'PK-0055-8', 'PK-0055-8', 'PK-0055-8', 'PK-0056-6', 'PK-0056-6', 'PK-0056-6', 'PK-0056-6', 'PK-0056-6', 'PK-0057-4', 'PK-0057-4', 'PK-0057-4', 'PK-0057-4', 'PK-0057-4', 'PK-0058-2', 'PK-0058-2', 'PK-0058-2', 'PK-0058-2', 'PK-0058-2', 'PK-0059-0', 'PK-0059-0', 'PK-0059-0', 'PK-0059-0', 'PK-0059-0', 'PK-0060-8', 'PK-0060-8', 'PK-0060-8', 'PK-0060-8', 'PK-0060-8', 'PK-0061-6', 'PK-0061-6', 'PK-0061-6', 'PK-0061-6', 'PK-0061-6', 'PK-0062-4', 'PK-0062-4', 'PK-0062-4', 'PK-0062-4', 'PK-0062-4', 'PK-0063-2', 'PK-0063-2', 'PK-0063-2', 'PK-0063-2', 'PK-0063-2', 'PK-0064-0', 'PK-0064-0', 'PK-0064-0', 'PK-0064-0', 'PK-0064-0', 'PK-0065-7', 'PK-0065-7', 'PK-0065-7', 'PK-0065-7', 'PK-0065-7', 'PK-0066-5', 'PK-0066-5', 'PK-0066-5', 'PK-0066-5', 'PK-0066-5', 'PK-0067-3', 'PK-0067-3', 'PK-0067-3', 'PK-0067-3', 'PK-0067-3', 'PK-0068-1', 'PK-0068-1', 'PK-0068-1', 'PK-0068-1', 'PK-0068-1', 'PK-0069-9', 'PK-0069-9', 'PK-0069-9', 'PK-0069-9', 'PK-0069-9', 'PK-0070-7', 'PK-0070-7', 'PK-0070-7', 'PK-0070-7', 'PK-0070-7', 'PK-0071-5', 'PK-0071-5', 'PK-0071-5', 'PK-0071-5', 'PK-0071-5', 'PK-0072-3', 'PK-0072-3', 'PK-0072-3', 'PK-0072-3', 'PK-0072-3', 'PK-0073-1', 'PK-0073-1', 'PK-0073-1', 'PK-0073-1', 'PK-0073-1', 'PK-0074-9', 'PK-0074-9', 'PK-0074-9', 'PK-0074-9', 'PK-0074-9', 'PK-0075-6', 'PK-0075-6', 'PK-0075-6', 'PK-0075-6', 'PK-0075-6', 'PK-0076-4', 'PK-0076-4', 'PK-0076-4', 'PK-0076-4', 'PK-0076-4', 'PK-0077-2', 'PK-0077-2', 'PK-0077-2', 'PK-0077-2', 'PK-0077-2', 'PK-0078-0', 'PK-0078-0', 'PK-0078-0', 'PK-0078-0', 'PK-0078-0', 'PK-0079-8', 'PK-0079-8', 'PK-0079-8', 'PK-0079-8', 'PK-0079-8', 'PK-0080-6', 'PK-0080-6', 'PK-0080-6', 'PK-0080-6', 'PK-0080-6', 'PK-0081-4', 'PK-0081-4', 'PK-0081-4', 'PK-0081-4', 'PK-0081-4', 'PK-0082-2', 'PK-0082-2', 'PK-0082-2', 'PK-0082-2', 'PK-0082-2', 'PK-0083-0', 'PK-0083-0', 'PK-0083-0', 'PK-0083-0', 'PK-0083-0', 'PK-0084-8', 'PK-0084-8', 'PK-0084-8', 'PK-0084-8', 'PK-0084-8', 'PK-0085-5', 'PK-0085-5', 'PK-0085-5', 'PK-0085-5', 'PK-0085-5', 'PK-0086-3', 'PK-0086-3', 'PK-0086-3', 'PK-0086-3', 'PK-0086-3', 'PK-0087-1', 'PK-0087-1', 'PK-0087-1', 'PK-0087-1', 'PK-0087-1', 'PK-0088-9', 'PK-0088-9', 'PK-0088-9', 'PK-0088-9', 'PK-0088-9', 'PK-0089-7', 'PK-0089-7', 'PK-0089-7', 'PK-0089-7', 'PK-0089-7', 'PK-0090-5', 'PK-0090-5', 'PK-0090-5', 'PK-0090-5', 'PK-0090-5', 'PK-0091-3', 'PK-0091-3', 'PK-0091-3', 'PK-0091-3', 'PK-0091-3', 'PK-0092-1', 'PK-0092-1', 'PK-0092-1', 'PK-0092-1', 'PK-0092-1', 'PK-0093-9', 'PK-0093-9', 'PK-0093-9', 'PK-0093-9', 'PK-0093-9', 'PK-0094-7', 'PK-0094-7', 'PK-0094-7', 'PK-0094-7', 'PK-0094-7', 'PK-0095-4', 'PK-0095-4', 'PK-0095-4', 'PK-0095-4', 'PK-0095-4', 'PK-0096-2', 'PK-0096-2', 'PK-0096-2', 'PK-0096-2', 'PK-0096-2', 'PK-0097-0', 'PK-0097-0', 'PK-0097-0', 'PK-0097-0', 'PK-0097-0', 'PK-0098-8', 'PK-0098-8', 'PK-0098-8', 'PK-0098-8', 'PK-0098-8', 'PK-0099-6', 'PK-0099-6', 'PK-0099-6', 'PK-0099-6', 'PK-0099-6']\n"
     ]
    }
   ],
   "source": [
    "print(computed_ids)\n",
    "label_file = open('participant_labels.csv', 'w')\n",
    "with label_file:  \n",
    "    fields = ['participant_ID', 'ID_label']\n",
    "    writer = csv.DictWriter(label_file, fieldnames=fields)    \n",
    "    writer.writeheader()\n",
    "    for pid in computed_ids:\n",
    "        writer.writerow({'participant_ID' : pid, 'ID_label': pid})"
   ]
  },
  {
   "cell_type": "code",
   "execution_count": null,
   "metadata": {},
   "outputs": [],
   "source": []
  },
  {
   "cell_type": "code",
   "execution_count": null,
   "metadata": {},
   "outputs": [],
   "source": []
  }
 ],
 "metadata": {
  "kernelspec": {
   "display_name": "Python 3",
   "language": "python",
   "name": "python3"
  },
  "language_info": {
   "codemirror_mode": {
    "name": "ipython",
    "version": 3
   },
   "file_extension": ".py",
   "mimetype": "text/x-python",
   "name": "python",
   "nbconvert_exporter": "python",
   "pygments_lexer": "ipython3",
   "version": "3.6.4"
  }
 },
 "nbformat": 4,
 "nbformat_minor": 2
}
