{
 "cells": [
  {
   "cell_type": "markdown",
   "metadata": {},
   "source": [
    "# CheckSum for nHealth"
   ]
  },
  {
   "cell_type": "code",
   "execution_count": 30,
   "metadata": {},
   "outputs": [],
   "source": [
    "import random\n",
    "import csv\n",
    "import re"
   ]
  },
  {
   "cell_type": "code",
   "execution_count": 31,
   "metadata": {},
   "outputs": [],
   "source": [
    "def generateIDs(prefix, upper_limit, repeats):\n",
    "    i = 0\n",
    "    pid = \"\"\n",
    "    ids = []\n",
    "    for i in range (1, upper_limit):\n",
    "        i = '%04d' % i;\n",
    "        pid = str(prefix + '-' + str(i))\n",
    "        for r in range(0, repeats):\n",
    "            ids.append(pid)\n",
    "    return (ids)"
   ]
  },
  {
   "cell_type": "code",
   "execution_count": 32,
   "metadata": {},
   "outputs": [],
   "source": [
    "input_ids = generateIDs('PK', 100, 1)"
   ]
  },
  {
   "cell_type": "code",
   "execution_count": 33,
   "metadata": {},
   "outputs": [
    {
     "name": "stdout",
     "output_type": "stream",
     "text": [
      "['PK-0001', 'PK-0002', 'PK-0003', 'PK-0004', 'PK-0005', 'PK-0006', 'PK-0007', 'PK-0008', 'PK-0009', 'PK-0010']\n"
     ]
    }
   ],
   "source": [
    "print(input_ids[0:10])"
   ]
  },
  {
   "cell_type": "code",
   "execution_count": 34,
   "metadata": {},
   "outputs": [],
   "source": [
    "# from https://github.com/mmcloughlin/luhn/blob/master/luhn.py\n",
    "\n",
    "def checksum(string):\n",
    "    \"\"\"\n",
    "    Compute the Luhn checksum for the provided string of digits. Note this\n",
    "    assumes the check digit is in place.\n",
    "    \"\"\"\n",
    "    digits = list(map(int, string))\n",
    "    odd_sum = sum(digits[-1::-2])\n",
    "    even_sum = sum([sum(divmod(2 * d, 10)) for d in digits[-2::-2]])\n",
    "    \n",
    "    l_sum = (odd_sum + even_sum) * 9\n",
    "    return (odd_sum + even_sum) % 10\n",
    "\n",
    "def verify(string):\n",
    "    \"\"\"\n",
    "    Check if the provided string of digits satisfies the Luhn checksum.\n",
    "    >>> verify('356938035643809')\n",
    "    True\n",
    "    >>> verify('534618613411236')\n",
    "    False\n",
    "    \"\"\"\n",
    "    # if it contains only digits\n",
    "    if not string.isdigit():\n",
    "        string = convertIDToDigits(string)\n",
    "    \n",
    "    return (checksum(string) == 0)\n",
    "\n",
    "def generate(string):\n",
    "    \"\"\"\n",
    "    Generate the Luhn check digit to append to the provided string.\n",
    "    >>> generate('35693803564380')\n",
    "    9\n",
    "    >>> generate('53461861341123')\n",
    "    4\n",
    "    \"\"\"\n",
    "    cksum = checksum(string + '0')\n",
    "    return (10 - cksum) % 10\n",
    "\n",
    "def append(string):\n",
    "    \"\"\"\n",
    "    Append Luhn check digit to the end of the provided string.\n",
    "    >>> append('53461861341123')\n",
    "    '534618613411234'\n",
    "    \"\"\"\n",
    "    return string + str(generate(string))"
   ]
  },
  {
   "cell_type": "code",
   "execution_count": 35,
   "metadata": {},
   "outputs": [],
   "source": [
    "computed_ids = []\n",
    "for i in input_ids:\n",
    "    number = re.match(r\"PK-(\\d*)\", i).group(1)\n",
    "    new_id = append(number)\n",
    "    computed_ids.append(new_id)"
   ]
  },
  {
   "cell_type": "code",
   "execution_count": 36,
   "metadata": {},
   "outputs": [
    {
     "name": "stdout",
     "output_type": "stream",
     "text": [
      "['00018', '00026', '00034', '00042', '00059', '00067', '00075', '00083', '00091', '00109', '00117', '00125', '00133', '00141', '00158', '00166', '00174', '00182', '00190', '00208', '00216', '00224', '00232', '00240', '00257', '00265', '00273', '00281', '00299', '00307', '00315', '00323', '00331', '00349', '00356', '00364', '00372', '00380', '00398', '00406', '00414', '00422', '00430', '00448', '00455', '00463', '00471', '00489', '00497', '00505', '00513', '00521', '00539', '00547', '00554', '00562', '00570', '00588', '00596', '00604', '00612', '00620', '00638', '00646', '00653', '00661', '00679', '00687', '00695', '00703', '00711', '00729', '00737', '00745', '00752', '00760', '00778', '00786', '00794', '00802', '00810', '00828', '00836', '00844', '00851', '00869', '00877', '00885', '00893', '00901', '00919', '00927', '00935', '00943', '00950', '00968', '00976', '00984', '00992']\n"
     ]
    }
   ],
   "source": [
    "print(computed_ids)"
   ]
  },
  {
   "cell_type": "code",
   "execution_count": 37,
   "metadata": {},
   "outputs": [
    {
     "name": "stdout",
     "output_type": "stream",
     "text": [
      "['PK-0001-8', 'PK-0002-6', 'PK-0003-4', 'PK-0004-2', 'PK-0005-9', 'PK-0006-7', 'PK-0007-5', 'PK-0008-3', 'PK-0009-1', 'PK-0010-9', 'PK-0011-7', 'PK-0012-5', 'PK-0013-3', 'PK-0014-1', 'PK-0015-8', 'PK-0016-6', 'PK-0017-4', 'PK-0018-2', 'PK-0019-0', 'PK-0020-8', 'PK-0021-6', 'PK-0022-4', 'PK-0023-2', 'PK-0024-0', 'PK-0025-7', 'PK-0026-5', 'PK-0027-3', 'PK-0028-1', 'PK-0029-9', 'PK-0030-7', 'PK-0031-5', 'PK-0032-3', 'PK-0033-1', 'PK-0034-9', 'PK-0035-6', 'PK-0036-4', 'PK-0037-2', 'PK-0038-0', 'PK-0039-8', 'PK-0040-6', 'PK-0041-4', 'PK-0042-2', 'PK-0043-0', 'PK-0044-8', 'PK-0045-5', 'PK-0046-3', 'PK-0047-1', 'PK-0048-9', 'PK-0049-7', 'PK-0050-5', 'PK-0051-3', 'PK-0052-1', 'PK-0053-9', 'PK-0054-7', 'PK-0055-4', 'PK-0056-2', 'PK-0057-0', 'PK-0058-8', 'PK-0059-6', 'PK-0060-4', 'PK-0061-2', 'PK-0062-0', 'PK-0063-8', 'PK-0064-6', 'PK-0065-3', 'PK-0066-1', 'PK-0067-9', 'PK-0068-7', 'PK-0069-5', 'PK-0070-3', 'PK-0071-1', 'PK-0072-9', 'PK-0073-7', 'PK-0074-5', 'PK-0075-2', 'PK-0076-0', 'PK-0077-8', 'PK-0078-6', 'PK-0079-4', 'PK-0080-2', 'PK-0081-0', 'PK-0082-8', 'PK-0083-6', 'PK-0084-4', 'PK-0085-1', 'PK-0086-9', 'PK-0087-7', 'PK-0088-5', 'PK-0089-3', 'PK-0090-1', 'PK-0091-9', 'PK-0092-7', 'PK-0093-5', 'PK-0094-3', 'PK-0095-0', 'PK-0096-8', 'PK-0097-6', 'PK-0098-4', 'PK-0099-2']\n"
     ]
    }
   ],
   "source": [
    "### convert these basck to the required format\n",
    "participant_ids = []\n",
    "for i in computed_ids:\n",
    "    p_id = 'PK-' + i[:4] + '-' + i[4:]\n",
    "    participant_ids.append(p_id)\n",
    "print(participant_ids)"
   ]
  },
  {
   "cell_type": "code",
   "execution_count": 38,
   "metadata": {},
   "outputs": [],
   "source": [
    "label_file = open('participant_labels.csv', 'w')\n",
    "with label_file:  \n",
    "    fields = ['participant_ID', 'ID_label']\n",
    "    writer = csv.DictWriter(label_file, fieldnames=fields)    \n",
    "    writer.writeheader()\n",
    "    for pid in participant_ids:\n",
    "        writer.writerow({'participant_ID' : pid, 'ID_label': pid})"
   ]
  },
  {
   "cell_type": "code",
   "execution_count": null,
   "metadata": {},
   "outputs": [],
   "source": []
  },
  {
   "cell_type": "code",
   "execution_count": null,
   "metadata": {},
   "outputs": [],
   "source": []
  }
 ],
 "metadata": {
  "kernelspec": {
   "display_name": "Python 3",
   "language": "python",
   "name": "python3"
  },
  "language_info": {
   "codemirror_mode": {
    "name": "ipython",
    "version": 3
   },
   "file_extension": ".py",
   "mimetype": "text/x-python",
   "name": "python",
   "nbconvert_exporter": "python",
   "pygments_lexer": "ipython3",
   "version": "3.6.4"
  }
 },
 "nbformat": 4,
 "nbformat_minor": 2
}
