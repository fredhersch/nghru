{
 "cells": [
  {
   "cell_type": "markdown",
   "metadata": {},
   "source": [
    "# CheckSum for nHealth"
   ]
  },
  {
   "cell_type": "code",
   "execution_count": 249,
   "metadata": {},
   "outputs": [],
   "source": [
    "# Takes in the ID with characters\n",
    "# Converts the characters to ASCII int\n",
    "# Returns the digits which are then used to generate the checksum via Luhn algorithm\n",
    "# we use the UPPERCASE ascii as it is always 2 digits\n",
    "def convertIDToDigits(string):\n",
    "    # strip off the first two characters and convert them to ascii \n",
    "    # append the numbers to the remaining digits\n",
    "    # strip out any spaces or dashes\n",
    "    s = string.replace('-', '')\n",
    "    digits = s[2:]\n",
    "    chars = s[:2]\n",
    "    # reverse the list so when we append the numbers we preserve the order\n",
    "    chars = list(reversed(chars))\n",
    "    for c in chars:\n",
    "        num = ord(c.upper())\n",
    "        digits = str(num) + digits\n",
    "    return(digits)"
   ]
  },
  {
   "cell_type": "code",
   "execution_count": 221,
   "metadata": {},
   "outputs": [],
   "source": [
    "# from https://github.com/mmcloughlin/luhn/blob/master/luhn.py\n",
    "\n",
    "def checksum(string):\n",
    "    \"\"\"\n",
    "    Compute the Luhn checksum for the provided string of digits. Note this\n",
    "    assumes the check digit is in place.\n",
    "    \"\"\"\n",
    "    digits = list(map(int, string))\n",
    "    odd_sum = sum(digits[-1::-2])\n",
    "    even_sum = sum([sum(divmod(2 * d, 10)) for d in digits[-2::-2]])\n",
    "    return (odd_sum + even_sum) % 10\n",
    "\n",
    "def verify(string):\n",
    "    \"\"\"\n",
    "    Check if the provided string of digits satisfies the Luhn checksum.\n",
    "    >>> verify('356938035643809')\n",
    "    True\n",
    "    >>> verify('534618613411236')\n",
    "    False\n",
    "    \"\"\"\n",
    "    return (checksum(string) == 0)\n",
    "\n",
    "def generate(string):\n",
    "    \"\"\"\n",
    "    Generate the Luhn check digit to append to the provided string.\n",
    "    >>> generate('35693803564380')\n",
    "    9\n",
    "    >>> generate('53461861341123')\n",
    "    4\n",
    "    \"\"\"\n",
    "    cksum = checksum(string + '0')\n",
    "    return (10 - cksum) % 10\n",
    "\n",
    "def append(string):\n",
    "    \"\"\"\n",
    "    Append Luhn check digit to the end of the provided string.\n",
    "    >>> append('53461861341123')\n",
    "    '534618613411234'\n",
    "    \"\"\"\n",
    "    return string + str(generate(string))"
   ]
  },
  {
   "cell_type": "code",
   "execution_count": 244,
   "metadata": {},
   "outputs": [],
   "source": [
    "raw_ids = ['PA-134-456', 'PB-546-452']\n",
    "screening_ids = []"
   ]
  },
  {
   "cell_type": "code",
   "execution_count": 245,
   "metadata": {},
   "outputs": [
    {
     "name": "stdout",
     "output_type": "stream",
     "text": [
      "Original ID is :  8065134456 \n",
      "\n",
      "Original ID is :  8066546452 \n",
      "\n"
     ]
    }
   ],
   "source": [
    "for id in raw_ids:\n",
    "    id = convertIDToDigits(id)\n",
    "    print(\"Original ID is : \", id , \"\\n\")\n",
    "    new_id = append(id)\n",
    "    screening_ids.append(new_id)"
   ]
  },
  {
   "cell_type": "code",
   "execution_count": 246,
   "metadata": {},
   "outputs": [
    {
     "name": "stdout",
     "output_type": "stream",
     "text": [
      "['80651344568', '80665464527']\n"
     ]
    }
   ],
   "source": [
    "print(screening_ids)"
   ]
  },
  {
   "cell_type": "code",
   "execution_count": 247,
   "metadata": {},
   "outputs": [
    {
     "name": "stdout",
     "output_type": "stream",
     "text": [
      "id is :  80651344568\n",
      "True\n",
      "id is :  80665464527\n",
      "True\n"
     ]
    }
   ],
   "source": [
    "# check LUHN\n",
    "for id in screening_ids:\n",
    "    print(\"id is : \", id)\n",
    "    print(verify(id))"
   ]
  },
  {
   "cell_type": "code",
   "execution_count": 248,
   "metadata": {},
   "outputs": [
    {
     "name": "stdout",
     "output_type": "stream",
     "text": [
      "True\n"
     ]
    }
   ],
   "source": [
    "print(verify('80651344568'))"
   ]
  },
  {
   "cell_type": "code",
   "execution_count": null,
   "metadata": {},
   "outputs": [],
   "source": []
  }
 ],
 "metadata": {
  "kernelspec": {
   "display_name": "Python 3",
   "language": "python",
   "name": "python3"
  },
  "language_info": {
   "codemirror_mode": {
    "name": "ipython",
    "version": 3
   },
   "file_extension": ".py",
   "mimetype": "text/x-python",
   "name": "python",
   "nbconvert_exporter": "python",
   "pygments_lexer": "ipython3",
   "version": "3.6.4"
  }
 },
 "nbformat": 4,
 "nbformat_minor": 2
}
