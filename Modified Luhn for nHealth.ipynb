{
 "cells": [
  {
   "cell_type": "markdown",
   "metadata": {},
   "source": [
    "# CheckSum for nHealth"
   ]
  },
  {
   "cell_type": "code",
   "execution_count": 378,
   "metadata": {},
   "outputs": [],
   "source": [
    "import random"
   ]
  },
  {
   "cell_type": "code",
   "execution_count": 469,
   "metadata": {},
   "outputs": [],
   "source": [
    "raw_ids = ['PA0000712', 'PA0030821', 'PB4000394', 'PC0101041', 'PD0031157', 'PG0001218']"
   ]
  },
  {
   "cell_type": "code",
   "execution_count": 470,
   "metadata": {},
   "outputs": [],
   "source": [
    "# Takes in the ID with characters\n",
    "# Converts the characters to ASCII int\n",
    "# Returns the digits which are then used to generate the checksum via Luhn algorithm\n",
    "# we use the UPPERCASE ascii as it is always 2 digits\n",
    "def convertIDToDigits(string):\n",
    "    # strip off the first two characters and convert them to ascii \n",
    "    # append the numbers to the remaining digits\n",
    "    # strip out any spaces or dashes\n",
    "    s = string.replace('-', '')\n",
    "    digits = s[2:]\n",
    "    chars = s[:2]\n",
    "    # reverse the list so when we append the numbers we preserve the order\n",
    "    chars = list(reversed(chars))\n",
    "    for c in chars:\n",
    "        num = ord(c.upper())\n",
    "        digits = str(num) + digits\n",
    "    return(digits)"
   ]
  },
  {
   "cell_type": "code",
   "execution_count": 471,
   "metadata": {},
   "outputs": [],
   "source": [
    "def convertIDToVarChar(string):\n",
    "    # re-assemble the ID back to the original format\n",
    "    # take the first four digits\n",
    "    digits = string[4:]\n",
    "    d_1 = digits[:4]\n",
    "    d_2 = digits[4:]\n",
    "    chars = string[:4]\n",
    "    l_1 = chr(int(chars[:2]))\n",
    "    l_2 = chr(int(chars[2:]))\n",
    "    return l_1 + l_2 + '-' + d_1 + '-' + d_2"
   ]
  },
  {
   "cell_type": "code",
   "execution_count": 472,
   "metadata": {},
   "outputs": [],
   "source": [
    "# from https://github.com/mmcloughlin/luhn/blob/master/luhn.py\n",
    "\n",
    "def checksum(string):\n",
    "    \"\"\"\n",
    "    Compute the Luhn checksum for the provided string of digits. Note this\n",
    "    assumes the check digit is in place.\n",
    "    \"\"\"\n",
    "    digits = list(map(int, string))\n",
    "    odd_sum = sum(digits[-1::-2])\n",
    "    even_sum = sum([sum(divmod(2 * d, 10)) for d in digits[-2::-2]])\n",
    "    return (odd_sum + even_sum) % 10\n",
    "\n",
    "def verify(string):\n",
    "    \"\"\"\n",
    "    Check if the provided string of digits satisfies the Luhn checksum.\n",
    "    >>> verify('356938035643809')\n",
    "    True\n",
    "    >>> verify('534618613411236')\n",
    "    False\n",
    "    \"\"\"\n",
    "    # if it contains only digits\n",
    "    if not string.isdigit():\n",
    "        string = convertIDToDigits(string)\n",
    "    \n",
    "    return (checksum(string) == 0)\n",
    "\n",
    "def generate(string):\n",
    "    \"\"\"\n",
    "    Generate the Luhn check digit to append to the provided string.\n",
    "    >>> generate('35693803564380')\n",
    "    9\n",
    "    >>> generate('53461861341123')\n",
    "    4\n",
    "    \"\"\"\n",
    "    cksum = checksum(string + '0')\n",
    "    return (10 - cksum) % 10\n",
    "\n",
    "def append(string):\n",
    "    \"\"\"\n",
    "    Append Luhn check digit to the end of the provided string.\n",
    "    >>> append('53461861341123')\n",
    "    '534618613411234'\n",
    "    \"\"\"\n",
    "    return string + str(generate(string))"
   ]
  },
  {
   "cell_type": "code",
   "execution_count": 473,
   "metadata": {},
   "outputs": [],
   "source": [
    "#raw_ids = ['PA-134-4561', 'PB-546-4522']\n",
    "computed_ids = []\n",
    "participant_ids = []"
   ]
  },
  {
   "cell_type": "code",
   "execution_count": 474,
   "metadata": {},
   "outputs": [],
   "source": [
    "for id in raw_ids:\n",
    "    id = convertIDToDigits(id)\n",
    "    new_id = append(id)\n",
    "    computed_ids.append(new_id)"
   ]
  },
  {
   "cell_type": "code",
   "execution_count": 475,
   "metadata": {},
   "outputs": [
    {
     "name": "stdout",
     "output_type": "stream",
     "text": [
      "['806500007125', '806500308218', '806640003943', '806701010415', '806800311573', '807100012184']\n"
     ]
    }
   ],
   "source": [
    "print(computed_ids)"
   ]
  },
  {
   "cell_type": "code",
   "execution_count": 476,
   "metadata": {},
   "outputs": [
    {
     "name": "stdout",
     "output_type": "stream",
     "text": [
      "['PA-0000-7125', 'PA-0030-8218', 'PB-4000-3943', 'PC-0101-0415', 'PD-0031-1573', 'PG-0001-2184']\n"
     ]
    }
   ],
   "source": [
    "# convert these basck to the required format\n",
    "for id in computed_ids:\n",
    "    p_id = convertIDToVarChar(id)\n",
    "    participant_ids.append(p_id)\n",
    "print(participant_ids)"
   ]
  },
  {
   "cell_type": "code",
   "execution_count": 477,
   "metadata": {},
   "outputs": [
    {
     "name": "stdout",
     "output_type": "stream",
     "text": [
      "id: PA-0000-7125 True\n",
      "id: PA-0030-8218 True\n",
      "id: PB-4000-3943 True\n",
      "id: PC-0101-0415 True\n",
      "id: PD-0031-1573 True\n",
      "id: PG-0001-2184 True\n"
     ]
    }
   ],
   "source": [
    "# check LUHN\n",
    "for id in participant_ids:\n",
    "    print(\"id:\", id, verify(id))"
   ]
  },
  {
   "cell_type": "code",
   "execution_count": 478,
   "metadata": {},
   "outputs": [
    {
     "name": "stdout",
     "output_type": "stream",
     "text": [
      "id: PA-7777-7125 False\n",
      "id: PA-3333-8218 False\n",
      "id: PB-4999-3943 False\n",
      "id: PC-0909-0495 False\n",
      "id: PD-0031-1573 True\n",
      "id: PG-0005-2584 False\n"
     ]
    }
   ],
   "source": [
    "# augment the id and run the check again\n",
    "# should be false\n",
    "for id in participant_ids:\n",
    "    # take the 6th digit\n",
    "    d = id[6]\n",
    "    #randomly replace it to generate a new ID\n",
    "    new_id = id.replace(d, str(random.randint(1,9)))\n",
    "    print(\"id:\", new_id, verify(new_id))"
   ]
  },
  {
   "cell_type": "code",
   "execution_count": 479,
   "metadata": {},
   "outputs": [
    {
     "name": "stdout",
     "output_type": "stream",
     "text": [
      "id: PA-0000-7125 True\n",
      "id: PA-0030-8218 True\n",
      "id: PB-4000-3943 True\n",
      "id: PC-0101-0415 True\n",
      "id: PD-0031-1573 True\n",
      "id: PG-0001-2184 True\n"
     ]
    }
   ],
   "source": [
    "for id in participant_ids:\n",
    "    print(\"id:\", id, verify(id))"
   ]
  },
  {
   "cell_type": "code",
   "execution_count": 480,
   "metadata": {},
   "outputs": [
    {
     "name": "stdout",
     "output_type": "stream",
     "text": [
      "id: 806500007125 True\n",
      "id: 806500308218 True\n",
      "id: 806640003943 True\n",
      "id: 806701010415 True\n",
      "id: 806800311573 True\n",
      "id: 807100012184 True\n"
     ]
    }
   ],
   "source": [
    "# recheck that the computed_ids are still valid\n",
    "for id in computed_ids:\n",
    "    print(\"id:\", id, verify(id))"
   ]
  },
  {
   "cell_type": "code",
   "execution_count": 481,
   "metadata": {},
   "outputs": [
    {
     "name": "stdout",
     "output_type": "stream",
     "text": [
      "From the raw input\n",
      "\n",
      "['PA0000712', 'PA0030821', 'PB4000394', 'PC0101041', 'PD0031157', 'PG0001218']\n",
      "\n",
      "We generate these Ids with check-sums. Hyphens optional \n",
      "\n",
      "['PA-0000-7125', 'PA-0030-8218', 'PB-4000-3943', 'PC-0101-0415', 'PD-0031-1573', 'PG-0001-2184']\n"
     ]
    }
   ],
   "source": [
    "# print out the final participant_id generated\n",
    "print(\"From the raw input\\n\")\n",
    "print(raw_ids)\n",
    "print(\"\\nWe generate these Ids with check-sums. Hyphens optional \\n\")\n",
    "print(participant_ids)"
   ]
  },
  {
   "cell_type": "code",
   "execution_count": null,
   "metadata": {},
   "outputs": [],
   "source": []
  }
 ],
 "metadata": {
  "kernelspec": {
   "display_name": "Python 3",
   "language": "python",
   "name": "python3"
  },
  "language_info": {
   "codemirror_mode": {
    "name": "ipython",
    "version": 3
   },
   "file_extension": ".py",
   "mimetype": "text/x-python",
   "name": "python",
   "nbconvert_exporter": "python",
   "pygments_lexer": "ipython3",
   "version": "3.6.4"
  }
 },
 "nbformat": 4,
 "nbformat_minor": 2
}
