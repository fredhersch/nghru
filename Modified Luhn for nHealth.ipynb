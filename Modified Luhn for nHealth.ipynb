{
 "cells": [
  {
   "cell_type": "markdown",
   "metadata": {},
   "source": [
    "# CheckSum for nHealth"
   ]
  },
  {
   "cell_type": "code",
   "execution_count": 95,
   "metadata": {},
   "outputs": [],
   "source": [
    "import random"
   ]
  },
  {
   "cell_type": "code",
   "execution_count": 1,
   "metadata": {},
   "outputs": [],
   "source": [
    "def genCodes():\n",
    "    \n",
    "    # construct a set of 7 digit codes of the format\n",
    "    # <CHAR><CHAR><DIGITSx5>\n",
    "    # the first digit is the c_type\n",
    "    #alpha = \"ABCDEFGHIJKLMNOPQRSTUVWXYZ\"\n",
    "    alpha = \"ABC\"\n",
    "    # for each alpha created 10*10*10*10*10 codes (100,000)\n",
    "    code = \"P\"\n",
    "    digits = [0,0,0,0,0]\n",
    "    for c in alpha:\n",
    "        print(c)\n",
    "        for d in reverse(list(digits)):\n",
    "            print(d)    "
   ]
  },
  {
   "cell_type": "code",
   "execution_count": 2,
   "metadata": {},
   "outputs": [
    {
     "name": "stdout",
     "output_type": "stream",
     "text": [
      "A\n"
     ]
    },
    {
     "ename": "NameError",
     "evalue": "name 'reverse' is not defined",
     "output_type": "error",
     "traceback": [
      "\u001b[0;31m---------------------------------------------------------------------------\u001b[0m",
      "\u001b[0;31mNameError\u001b[0m                                 Traceback (most recent call last)",
      "\u001b[0;32m<ipython-input-2-a7288411b6f2>\u001b[0m in \u001b[0;36m<module>\u001b[0;34m()\u001b[0m\n\u001b[0;32m----> 1\u001b[0;31m \u001b[0mprint\u001b[0m\u001b[0;34m(\u001b[0m\u001b[0mgenCodes\u001b[0m\u001b[0;34m(\u001b[0m\u001b[0;34m)\u001b[0m\u001b[0;34m)\u001b[0m\u001b[0;34m\u001b[0m\u001b[0m\n\u001b[0m",
      "\u001b[0;32m<ipython-input-1-74fec36eb450>\u001b[0m in \u001b[0;36mgenCodes\u001b[0;34m()\u001b[0m\n\u001b[1;32m     11\u001b[0m     \u001b[0;32mfor\u001b[0m \u001b[0mc\u001b[0m \u001b[0;32min\u001b[0m \u001b[0malpha\u001b[0m\u001b[0;34m:\u001b[0m\u001b[0;34m\u001b[0m\u001b[0m\n\u001b[1;32m     12\u001b[0m         \u001b[0mprint\u001b[0m\u001b[0;34m(\u001b[0m\u001b[0mc\u001b[0m\u001b[0;34m)\u001b[0m\u001b[0;34m\u001b[0m\u001b[0m\n\u001b[0;32m---> 13\u001b[0;31m         \u001b[0;32mfor\u001b[0m \u001b[0md\u001b[0m \u001b[0;32min\u001b[0m \u001b[0mreverse\u001b[0m\u001b[0;34m(\u001b[0m\u001b[0mlist\u001b[0m\u001b[0;34m(\u001b[0m\u001b[0mdigits\u001b[0m\u001b[0;34m)\u001b[0m\u001b[0;34m)\u001b[0m\u001b[0;34m:\u001b[0m\u001b[0;34m\u001b[0m\u001b[0m\n\u001b[0m\u001b[1;32m     14\u001b[0m             \u001b[0mprint\u001b[0m\u001b[0;34m(\u001b[0m\u001b[0md\u001b[0m\u001b[0;34m)\u001b[0m\u001b[0;34m\u001b[0m\u001b[0m\n",
      "\u001b[0;31mNameError\u001b[0m: name 'reverse' is not defined"
     ]
    }
   ],
   "source": [
    "print(genCodes())"
   ]
  },
  {
   "cell_type": "code",
   "execution_count": 148,
   "metadata": {},
   "outputs": [],
   "source": [
    "#PB-2905-1, PC-1467-1, PB-7361-2, PD-5453-5\n",
    "#raw_ids = ['PAA-0001-6', 'PAA-0003-2', 'PAA-0005-7', 'PAA-0007-3', 'PAA-0009-9', 'PAA-0011-4', 'PAA-0023-8']\n",
    "#raw_ids = ['PAA-0001', 'PAA-0003', 'PAA-0005', 'PAA-0007', 'PAA-0009', 'PAA-0011', 'PAA-0013', 'PAA-0023', 'PAA-0021']\n",
    "qr_ids = ['EAA-0000', 'EAA-0001', 'EAA-0002', 'EAA-0003', 'EAA-0004', 'EAA-0005', 'EAA-0006', 'EAA-0007', 'EAA-0008', 'EAA-0009', 'EAA-0010', 'EAA-0011', 'EAA-0012', 'EAA-0013', 'EAA-0014', 'EAA-0015', 'EAA-0016', 'EAA-0017', 'EAA-0018']\n",
    "bc_ids = ['PAA-9576', 'PAA-9577', 'PAA-9578', 'PAA-9579', 'PAA-9580', 'PAA-9581', 'PAA-9582', 'PAA-9583', 'PAA-9584', 'PAA-9585', 'PAA-9586', 'PAA-9587', 'PAA-9588', 'PAA-9589', 'PAA-9590', 'PAA-9591', 'PAA-9592', 'PAA-9593', 'PAA-9594']\n",
    "raw_ids = bc_ids\n",
    "\n",
    "\n",
    "\n"
   ]
  },
  {
   "cell_type": "code",
   "execution_count": 149,
   "metadata": {},
   "outputs": [],
   "source": [
    "### Takes in the ID with characters\n",
    "# Converts the characters to ASCII int\n",
    "# Returns the digits which are then used to generate the checksum via Luhn algorithm\n",
    "# we use the UPPERCASE ascii as it is always 2 digits\n",
    "def convertIDToDigits(string):\n",
    "    # strip off the first three characters and convert them to ascii \n",
    "    # append the numbers to the remaining digits\n",
    "    # strip out any spaces or dashes\n",
    "    s = string.replace('-', '')\n",
    "    digits = s[3:]\n",
    "    chars = s[:3]\n",
    "    # reverse the list so when we append the numbers we preserve the order\n",
    "    chars = list(reversed(chars))\n",
    "    for c in chars:\n",
    "        num = ord(c.upper())\n",
    "        digits = str(num) + digits\n",
    "    return(digits)"
   ]
  },
  {
   "cell_type": "code",
   "execution_count": 150,
   "metadata": {},
   "outputs": [],
   "source": [
    "def convertIDToVarChar(string):\n",
    "    # re-assemble the ID back to the original format\n",
    "    # take the first six digits\n",
    "    digits = string[6:]\n",
    "    d1 = digits[:4]\n",
    "    d2 = digits[4:]\n",
    "    chars = string[:6]\n",
    "    c1 = chr(int(chars[:2]))\n",
    "    c2 = chr(int(chars[2:4]))\n",
    "    c3 = chr(int(chars[4:6]))\n",
    "    return c1 + c2 + c3 + '-' + d1 + '-' + d2"
   ]
  },
  {
   "cell_type": "code",
   "execution_count": 151,
   "metadata": {},
   "outputs": [
    {
     "ename": "SyntaxError",
     "evalue": "unexpected EOF while parsing (<ipython-input-151-066cdc9f0df6>, line 3)",
     "output_type": "error",
     "traceback": [
      "\u001b[0;36m  File \u001b[0;32m\"<ipython-input-151-066cdc9f0df6>\"\u001b[0;36m, line \u001b[0;32m3\u001b[0m\n\u001b[0;31m    \u001b[0m\n\u001b[0m    ^\u001b[0m\n\u001b[0;31mSyntaxError\u001b[0m\u001b[0;31m:\u001b[0m unexpected EOF while parsing\n"
     ]
    }
   ],
   "source": [
    "def genOutput(raw_id, participant_id):\n",
    "    for id in raw_id:\n",
    "        "
   ]
  },
  {
   "cell_type": "code",
   "execution_count": 152,
   "metadata": {},
   "outputs": [],
   "source": [
    "# from https://github.com/mmcloughlin/luhn/blob/master/luhn.py\n",
    "\n",
    "def checksum(string):\n",
    "    \"\"\"\n",
    "    Compute the Luhn checksum for the provided string of digits. Note this\n",
    "    assumes the check digit is in place.\n",
    "    \"\"\"\n",
    "    digits = list(map(int, string))\n",
    "    odd_sum = sum(digits[-1::-2])\n",
    "    even_sum = sum([sum(divmod(2 * d, 10)) for d in digits[-2::-2]])\n",
    "    \n",
    "    l_sum = (odd_sum + even_sum) * 9\n",
    "    return (odd_sum + even_sum) % 10\n",
    "\n",
    "def verify(string):\n",
    "    \"\"\"\n",
    "    Check if the provided string of digits satisfies the Luhn checksum.\n",
    "    >>> verify('356938035643809')\n",
    "    True\n",
    "    >>> verify('534618613411236')\n",
    "    False\n",
    "    \"\"\"\n",
    "    # if it contains only digits\n",
    "    if not string.isdigit():\n",
    "        string = convertIDToDigits(string)\n",
    "    \n",
    "    return (checksum(string) == 0)\n",
    "\n",
    "def generate(string):\n",
    "    \"\"\"\n",
    "    Generate the Luhn check digit to append to the provided string.\n",
    "    >>> generate('35693803564380')\n",
    "    9\n",
    "    >>> generate('53461861341123')\n",
    "    4\n",
    "    \"\"\"\n",
    "    cksum = checksum(string + '0')\n",
    "    return (10 - cksum) % 10\n",
    "\n",
    "def append(string):\n",
    "    \"\"\"\n",
    "    Append Luhn check digit to the end of the provided string.\n",
    "    >>> append('53461861341123')\n",
    "    '534618613411234'\n",
    "    \"\"\"\n",
    "    return string + str(generate(string))"
   ]
  },
  {
   "cell_type": "code",
   "execution_count": 153,
   "metadata": {},
   "outputs": [],
   "source": [
    "#raw_ids = ['PA-134-4561', 'PB-546-4522']\n",
    "computed_ids = []\n",
    "participant_ids = []"
   ]
  },
  {
   "cell_type": "code",
   "execution_count": 154,
   "metadata": {},
   "outputs": [],
   "source": [
    "for id in raw_ids:\n",
    "    id = convertIDToDigits(id)\n",
    "    new_id = convertIDToVarChar(append(id))\n",
    "    computed_ids.append(new_id)"
   ]
  },
  {
   "cell_type": "code",
   "execution_count": 155,
   "metadata": {},
   "outputs": [
    {
     "name": "stdout",
     "output_type": "stream",
     "text": [
      "['PAA-9576-8', 'PAA-9577-6', 'PAA-9578-4', 'PAA-9579-2', 'PAA-9580-0', 'PAA-9581-8', 'PAA-9582-6', 'PAA-9583-4', 'PAA-9584-2', 'PAA-9585-9', 'PAA-9586-7', 'PAA-9587-5', 'PAA-9588-3', 'PAA-9589-1', 'PAA-9590-9', 'PAA-9591-7', 'PAA-9592-5', 'PAA-9593-3', 'PAA-9594-1']\n"
     ]
    }
   ],
   "source": [
    "print(computed_ids)"
   ]
  },
  {
   "cell_type": "code",
   "execution_count": 156,
   "metadata": {},
   "outputs": [
    {
     "ename": "ValueError",
     "evalue": "invalid literal for int() with base 10: 'PA'",
     "output_type": "error",
     "traceback": [
      "\u001b[0;31m---------------------------------------------------------------------------\u001b[0m",
      "\u001b[0;31mValueError\u001b[0m                                Traceback (most recent call last)",
      "\u001b[0;32m<ipython-input-156-32c02461f88c>\u001b[0m in \u001b[0;36m<module>\u001b[0;34m()\u001b[0m\n\u001b[1;32m      1\u001b[0m \u001b[0;31m### convert these basck to the required format\u001b[0m\u001b[0;34m\u001b[0m\u001b[0;34m\u001b[0m\u001b[0m\n\u001b[1;32m      2\u001b[0m \u001b[0;32mfor\u001b[0m \u001b[0mid\u001b[0m \u001b[0;32min\u001b[0m \u001b[0mcomputed_ids\u001b[0m\u001b[0;34m:\u001b[0m\u001b[0;34m\u001b[0m\u001b[0m\n\u001b[0;32m----> 3\u001b[0;31m     \u001b[0mp_id\u001b[0m \u001b[0;34m=\u001b[0m \u001b[0mconvertIDToVarChar\u001b[0m\u001b[0;34m(\u001b[0m\u001b[0mid\u001b[0m\u001b[0;34m)\u001b[0m\u001b[0;34m\u001b[0m\u001b[0m\n\u001b[0m\u001b[1;32m      4\u001b[0m     \u001b[0mparticipant_ids\u001b[0m\u001b[0;34m.\u001b[0m\u001b[0mappend\u001b[0m\u001b[0;34m(\u001b[0m\u001b[0mp_id\u001b[0m\u001b[0;34m)\u001b[0m\u001b[0;34m\u001b[0m\u001b[0m\n\u001b[1;32m      5\u001b[0m \u001b[0mprint\u001b[0m\u001b[0;34m(\u001b[0m\u001b[0mparticipant_ids\u001b[0m\u001b[0;34m)\u001b[0m\u001b[0;34m\u001b[0m\u001b[0m\n",
      "\u001b[0;32m<ipython-input-150-dd163f340a4f>\u001b[0m in \u001b[0;36mconvertIDToVarChar\u001b[0;34m(string)\u001b[0m\n\u001b[1;32m      6\u001b[0m     \u001b[0md2\u001b[0m \u001b[0;34m=\u001b[0m \u001b[0mdigits\u001b[0m\u001b[0;34m[\u001b[0m\u001b[0;36m4\u001b[0m\u001b[0;34m:\u001b[0m\u001b[0;34m]\u001b[0m\u001b[0;34m\u001b[0m\u001b[0m\n\u001b[1;32m      7\u001b[0m     \u001b[0mchars\u001b[0m \u001b[0;34m=\u001b[0m \u001b[0mstring\u001b[0m\u001b[0;34m[\u001b[0m\u001b[0;34m:\u001b[0m\u001b[0;36m6\u001b[0m\u001b[0;34m]\u001b[0m\u001b[0;34m\u001b[0m\u001b[0m\n\u001b[0;32m----> 8\u001b[0;31m     \u001b[0mc1\u001b[0m \u001b[0;34m=\u001b[0m \u001b[0mchr\u001b[0m\u001b[0;34m(\u001b[0m\u001b[0mint\u001b[0m\u001b[0;34m(\u001b[0m\u001b[0mchars\u001b[0m\u001b[0;34m[\u001b[0m\u001b[0;34m:\u001b[0m\u001b[0;36m2\u001b[0m\u001b[0;34m]\u001b[0m\u001b[0;34m)\u001b[0m\u001b[0;34m)\u001b[0m\u001b[0;34m\u001b[0m\u001b[0m\n\u001b[0m\u001b[1;32m      9\u001b[0m     \u001b[0mc2\u001b[0m \u001b[0;34m=\u001b[0m \u001b[0mchr\u001b[0m\u001b[0;34m(\u001b[0m\u001b[0mint\u001b[0m\u001b[0;34m(\u001b[0m\u001b[0mchars\u001b[0m\u001b[0;34m[\u001b[0m\u001b[0;36m2\u001b[0m\u001b[0;34m:\u001b[0m\u001b[0;36m4\u001b[0m\u001b[0;34m]\u001b[0m\u001b[0;34m)\u001b[0m\u001b[0;34m)\u001b[0m\u001b[0;34m\u001b[0m\u001b[0m\n\u001b[1;32m     10\u001b[0m     \u001b[0mc3\u001b[0m \u001b[0;34m=\u001b[0m \u001b[0mchr\u001b[0m\u001b[0;34m(\u001b[0m\u001b[0mint\u001b[0m\u001b[0;34m(\u001b[0m\u001b[0mchars\u001b[0m\u001b[0;34m[\u001b[0m\u001b[0;36m4\u001b[0m\u001b[0;34m:\u001b[0m\u001b[0;36m6\u001b[0m\u001b[0;34m]\u001b[0m\u001b[0;34m)\u001b[0m\u001b[0;34m)\u001b[0m\u001b[0;34m\u001b[0m\u001b[0m\n",
      "\u001b[0;31mValueError\u001b[0m: invalid literal for int() with base 10: 'PA'"
     ]
    }
   ],
   "source": [
    "### convert these basck to the required format\n",
    "for id in computed_ids:\n",
    "    p_id = convertIDToVarChar(id)\n",
    "    participant_ids.append(p_id)\n",
    "print(participant_ids)"
   ]
  },
  {
   "cell_type": "code",
   "execution_count": 157,
   "metadata": {},
   "outputs": [
    {
     "name": "stdout",
     "output_type": "stream",
     "text": [
      "id: PAA-9576-8 True\n",
      "id: PAA-9577-6 True\n",
      "id: PAA-9578-4 True\n",
      "id: PAA-9579-2 True\n",
      "id: PAA-9580-0 True\n",
      "id: PAA-9581-8 True\n",
      "id: PAA-9582-6 True\n",
      "id: PAA-9583-4 True\n",
      "id: PAA-9584-2 True\n",
      "id: PAA-9585-9 True\n",
      "id: PAA-9586-7 True\n",
      "id: PAA-9587-5 True\n",
      "id: PAA-9588-3 True\n",
      "id: PAA-9589-1 True\n",
      "id: PAA-9590-9 True\n",
      "id: PAA-9591-7 True\n",
      "id: PAA-9592-5 True\n",
      "id: PAA-9593-3 True\n",
      "id: PAA-9594-1 True\n"
     ]
    }
   ],
   "source": [
    "# check LUHN\n",
    "for id in computed_ids:\n",
    "    print(\"id:\", id, verify(id))"
   ]
  },
  {
   "cell_type": "code",
   "execution_count": 158,
   "metadata": {},
   "outputs": [],
   "source": [
    "# augment the id and run the check again\n",
    "# should be false\n",
    "#for id in participant_ids:\n",
    "    # take the 6th digit\n",
    "#    d = id[6]\n",
    "    #randomly replace it to generate a new ID\n",
    "#    new_id = id.replace(d, str(random.randint(1,9)))\n",
    "#    print(\"id:\", new_id, verify(new_id))"
   ]
  },
  {
   "cell_type": "code",
   "execution_count": 159,
   "metadata": {},
   "outputs": [
    {
     "name": "stdout",
     "output_type": "stream",
     "text": [
      "id: PAA-9576-8 True\n",
      "id: PAA-9577-6 True\n",
      "id: PAA-9578-4 True\n",
      "id: PAA-9579-2 True\n",
      "id: PAA-9580-0 True\n",
      "id: PAA-9581-8 True\n",
      "id: PAA-9582-6 True\n",
      "id: PAA-9583-4 True\n",
      "id: PAA-9584-2 True\n",
      "id: PAA-9585-9 True\n",
      "id: PAA-9586-7 True\n",
      "id: PAA-9587-5 True\n",
      "id: PAA-9588-3 True\n",
      "id: PAA-9589-1 True\n",
      "id: PAA-9590-9 True\n",
      "id: PAA-9591-7 True\n",
      "id: PAA-9592-5 True\n",
      "id: PAA-9593-3 True\n",
      "id: PAA-9594-1 True\n"
     ]
    }
   ],
   "source": [
    "for id in computed_ids:\n",
    "    print(\"id:\", id, verify(id))"
   ]
  },
  {
   "cell_type": "code",
   "execution_count": 160,
   "metadata": {},
   "outputs": [],
   "source": [
    "# recheck that the computed_ids are still valid\n",
    "#for id in computed_ids:\n",
    "#    print(\"id:\", id, verify(id))"
   ]
  },
  {
   "cell_type": "code",
   "execution_count": 161,
   "metadata": {},
   "outputs": [
    {
     "name": "stdout",
     "output_type": "stream",
     "text": [
      "[('PAA-9576', 'PAA-9576-8', True), ('PAA-9577', 'PAA-9577-6', True), ('PAA-9578', 'PAA-9578-4', True), ('PAA-9579', 'PAA-9579-2', True), ('PAA-9580', 'PAA-9580-0', True), ('PAA-9581', 'PAA-9581-8', True), ('PAA-9582', 'PAA-9582-6', True), ('PAA-9583', 'PAA-9583-4', True), ('PAA-9584', 'PAA-9584-2', True), ('PAA-9585', 'PAA-9585-9', True), ('PAA-9586', 'PAA-9586-7', True), ('PAA-9587', 'PAA-9587-5', True), ('PAA-9588', 'PAA-9588-3', True), ('PAA-9589', 'PAA-9589-1', True), ('PAA-9590', 'PAA-9590-9', True), ('PAA-9591', 'PAA-9591-7', True), ('PAA-9592', 'PAA-9592-5', True), ('PAA-9593', 'PAA-9593-3', True), ('PAA-9594', 'PAA-9594-1', True)]\n"
     ]
    }
   ],
   "source": [
    "# print out the final participant_id generated\n",
    "#print(\"From the raw input\\n\")\n",
    "#print(raw_ids)\n",
    "#print(\"\\nWe generate these Ids with check-sums. Hyphens optional \\n\")\n",
    "#print(computed_ids)\n",
    "\n",
    "output = []\n",
    "\n",
    "for x in range(len(raw_ids)):\n",
    "    raw = raw_ids[x]\n",
    "    computed = computed_ids[x]\n",
    "    verified = verify(computed)\n",
    "    output.append((raw, computed, verified))\n",
    "\n",
    "print(output)"
   ]
  },
  {
   "cell_type": "code",
   "execution_count": null,
   "metadata": {},
   "outputs": [],
   "source": []
  },
  {
   "cell_type": "code",
   "execution_count": null,
   "metadata": {},
   "outputs": [],
   "source": []
  },
  {
   "cell_type": "code",
   "execution_count": null,
   "metadata": {},
   "outputs": [],
   "source": []
  }
 ],
 "metadata": {
  "kernelspec": {
   "display_name": "Python 3",
   "language": "python",
   "name": "python3"
  },
  "language_info": {
   "codemirror_mode": {
    "name": "ipython",
    "version": 3
   },
   "file_extension": ".py",
   "mimetype": "text/x-python",
   "name": "python",
   "nbconvert_exporter": "python",
   "pygments_lexer": "ipython3",
   "version": "3.6.4"
  }
 },
 "nbformat": 4,
 "nbformat_minor": 2
}
